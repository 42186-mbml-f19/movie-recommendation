{
 "cells": [
  {
   "cell_type": "code",
   "execution_count": 1,
   "metadata": {},
   "outputs": [],
   "source": [
    "import pandas as pd\n",
    "import pystan\n",
    "import numpy as np\n",
    "import matplotlib.pyplot as plt\n",
    "import pystan_utils\n",
    "import os\n",
    "from  movie_recommendation_aux import *\n",
    "%matplotlib notebook\n",
    "%load_ext autoreload\n",
    "%autoreload 2"
   ]
  },
  {
   "cell_type": "markdown",
   "metadata": {},
   "source": [
    "# Setting things up"
   ]
  },
  {
   "cell_type": "code",
   "execution_count": 11,
   "metadata": {},
   "outputs": [],
   "source": [
    "seed = 42\n",
    "#dataset = 'ml-20m' #big\n",
    "dataset = 'ml-latest-small' #small\n",
    "ratings = pd.read_csv(os.path.join(dataset,'ratings.csv'))\n",
    "# HACK -- small movies.csv is apararently missing movies from small ratings.csv\n",
    "movies = pd.read_csv(os.path.join('ml-20m','movies.csv')) \n",
    "#Create like column\n",
    "ratings['like'] = (ratings.rating >= 3.0 )+ 0\n",
    "\n",
    "unique_movies = ratings['movieId'].unique()\n",
    "\n",
    "#movieId is not sequential\n",
    "movie_dict = {movieId: i for i, movieId in enumerate(unique_movies)}\n",
    "ratings['movieId'] = ratings['movieId'].apply(lambda movieId: movie_dict[movieId])"
   ]
  },
  {
   "cell_type": "markdown",
   "metadata": {},
   "source": [
    "Data samples"
   ]
  },
  {
   "cell_type": "code",
   "execution_count": null,
   "metadata": {},
   "outputs": [],
   "source": [
    "ratings.head()"
   ]
  },
  {
   "cell_type": "code",
   "execution_count": 28,
   "metadata": {},
   "outputs": [
    {
     "data": {
      "text/html": [
       "<div>\n",
       "<style scoped>\n",
       "    .dataframe tbody tr th:only-of-type {\n",
       "        vertical-align: middle;\n",
       "    }\n",
       "\n",
       "    .dataframe tbody tr th {\n",
       "        vertical-align: top;\n",
       "    }\n",
       "\n",
       "    .dataframe thead th {\n",
       "        text-align: right;\n",
       "    }\n",
       "</style>\n",
       "<table border=\"1\" class=\"dataframe\">\n",
       "  <thead>\n",
       "    <tr style=\"text-align: right;\">\n",
       "      <th></th>\n",
       "      <th>movieId</th>\n",
       "      <th>title</th>\n",
       "      <th>genres</th>\n",
       "    </tr>\n",
       "  </thead>\n",
       "  <tbody>\n",
       "    <tr>\n",
       "      <th>2032</th>\n",
       "      <td>2116</td>\n",
       "      <td>Lord of the Rings, The (1978)</td>\n",
       "      <td>Adventure|Animation|Children|Fantasy</td>\n",
       "    </tr>\n",
       "    <tr>\n",
       "      <th>4897</th>\n",
       "      <td>4993</td>\n",
       "      <td>Lord of the Rings: The Fellowship of the Ring,...</td>\n",
       "      <td>Adventure|Fantasy</td>\n",
       "    </tr>\n",
       "    <tr>\n",
       "      <th>5853</th>\n",
       "      <td>5952</td>\n",
       "      <td>Lord of the Rings: The Two Towers, The (2002)</td>\n",
       "      <td>Adventure|Fantasy</td>\n",
       "    </tr>\n",
       "    <tr>\n",
       "      <th>7041</th>\n",
       "      <td>7153</td>\n",
       "      <td>Lord of the Rings: The Return of the King, The...</td>\n",
       "      <td>Action|Adventure|Drama|Fantasy</td>\n",
       "    </tr>\n",
       "  </tbody>\n",
       "</table>\n",
       "</div>"
      ],
      "text/plain": [
       "      movieId                                              title  \\\n",
       "2032     2116                      Lord of the Rings, The (1978)   \n",
       "4897     4993  Lord of the Rings: The Fellowship of the Ring,...   \n",
       "5853     5952      Lord of the Rings: The Two Towers, The (2002)   \n",
       "7041     7153  Lord of the Rings: The Return of the King, The...   \n",
       "\n",
       "                                    genres  \n",
       "2032  Adventure|Animation|Children|Fantasy  \n",
       "4897                     Adventure|Fantasy  \n",
       "5853                     Adventure|Fantasy  \n",
       "7041        Action|Adventure|Drama|Fantasy  "
      ]
     },
     "execution_count": 28,
     "metadata": {},
     "output_type": "execute_result"
    }
   ],
   "source": [
    "movies[movies.title.str.contains('Lord of the Rings')]"
   ]
  },
  {
   "cell_type": "markdown",
   "metadata": {},
   "source": [
    "For now instead of multiclass classification based on stars, turn problem into binary classification by defining 'like' for all movies rated above 3.5 stars, and 'not-like' for all movies below 3.0"
   ]
  },
  {
   "cell_type": "code",
   "execution_count": 29,
   "metadata": {},
   "outputs": [
    {
     "name": "stderr",
     "output_type": "stream",
     "text": [
      "/zhome/30/0/70339/.local/lib/python3.6/site-packages/ipykernel_launcher.py:2: SettingWithCopyWarning: \n",
      "A value is trying to be set on a copy of a slice from a DataFrame.\n",
      "Try using .loc[row_indexer,col_indexer] = value instead\n",
      "\n",
      "See the caveats in the documentation: http://pandas.pydata.org/pandas-docs/stable/indexing.html#indexing-view-versus-copy\n",
      "  \n"
     ]
    }
   ],
   "source": [
    "user = ratings[ratings['userId'] == 1]\n",
    "user['like'] = user.rating >= 3.0\n",
    "like = user['like'] + 0\n",
    "N = len(like)"
   ]
  },
  {
   "cell_type": "markdown",
   "metadata": {},
   "source": [
    "# One person classifier"
   ]
  },
  {
   "cell_type": "code",
   "execution_count": null,
   "metadata": {},
   "outputs": [],
   "source": [
    "# define Stan model\n",
    "model_definition = \"\"\"\n",
    "\n",
    "data {\n",
    "    int<lower=0> N;             // number of data items\n",
    "    int likes[N];\n",
    "    \n",
    "}\n",
    "parameters {\n",
    "    vector[N] trait;\n",
    "    real preference;\n",
    "} \n",
    "model {\n",
    "    vector[N] affinity;\n",
    "    vector[N] noisy_affinity;\n",
    "    \n",
    "    preference ~ normal(0,10);\n",
    "    for (n in 1:N){\n",
    "        trait[n] ~ normal(0,10);\n",
    "        affinity[n] = trait[n]*preference;\n",
    "        likes[n] ~ bernoulli_logit(affinity[n]);\n",
    "    }\n",
    "\n",
    "}\n",
    "\"\"\""
   ]
  },
  {
   "cell_type": "code",
   "execution_count": null,
   "metadata": {},
   "outputs": [],
   "source": [
    "data = {'N': N, 'likes': like}"
   ]
  },
  {
   "cell_type": "code",
   "execution_count": null,
   "metadata": {},
   "outputs": [],
   "source": [
    "%%time\n",
    "# create Stan model object\n",
    "sm = pystan.StanModel(model_code=model_definition)\n",
    "fit = sm.sampling(data=data, iter=10000, algorithm=\"NUTS\", chains=1, seed=42, verbose=True)"
   ]
  },
  {
   "cell_type": "code",
   "execution_count": null,
   "metadata": {},
   "outputs": [],
   "source": [
    "print(fit)"
   ]
  },
  {
   "cell_type": "code",
   "execution_count": null,
   "metadata": {
    "scrolled": false
   },
   "outputs": [],
   "source": [
    "fit.traceplot()"
   ]
  },
  {
   "cell_type": "markdown",
   "metadata": {},
   "source": [
    "# Multiple traits"
   ]
  },
  {
   "cell_type": "code",
   "execution_count": null,
   "metadata": {},
   "outputs": [],
   "source": [
    "# define Stan model\n",
    "model_definition = \"\"\"\n",
    "\n",
    "data {\n",
    "    int<lower=0> N;             // number of data items\n",
    "    int likes[N];\n",
    "    int num_traits;\n",
    "    \n",
    "}\n",
    "parameters {\n",
    "    matrix[N,num_traits] trait;\n",
    "    vector[num_traits] preference;\n",
    "} \n",
    "model {\n",
    "    //matrix[N, num_traits] trait_affinity ;\n",
    "    vector[N] affinity ;\n",
    "    \n",
    "    preference ~ normal(0,10);\n",
    "    for (n in 1:N){\n",
    "        real tmp = 0;\n",
    "        for (t in 1:num_traits){\n",
    "            trait[n,t] ~ normal(0,10);\n",
    "            tmp += trait[n,t]*preference[t];\n",
    "        \n",
    "        }\n",
    "        affinity[n] = tmp;\n",
    "        likes[n] ~ bernoulli_logit(affinity[n]);\n",
    "        \n",
    "    }\n",
    "}\n",
    "\"\"\""
   ]
  },
  {
   "cell_type": "code",
   "execution_count": null,
   "metadata": {},
   "outputs": [],
   "source": [
    "data = {'N': N, 'likes': like, 'num_traits':2}"
   ]
  },
  {
   "cell_type": "code",
   "execution_count": null,
   "metadata": {},
   "outputs": [],
   "source": [
    "%%time\n",
    "# create Stan model object\n",
    "sm = pystan.StanModel(model_code=model_definition)\n",
    "fit = sm.sampling(data=data, iter=10000, algorithm=\"NUTS\", chains=1, seed=42, verbose=True)"
   ]
  },
  {
   "cell_type": "code",
   "execution_count": null,
   "metadata": {},
   "outputs": [],
   "source": [
    "print(fit)"
   ]
  },
  {
   "cell_type": "code",
   "execution_count": null,
   "metadata": {
    "scrolled": true
   },
   "outputs": [],
   "source": [
    "trait_mean =np.mean(fit['trait'],0)\n",
    "np.subtract(trait_mean[:,0],trait_mean[:,1])"
   ]
  }
 ],
 "metadata": {
  "kernelspec": {
   "display_name": "Python 3",
   "language": "python",
   "name": "python3"
  },
  "language_info": {
   "codemirror_mode": {
    "name": "ipython",
    "version": 3
   },
   "file_extension": ".py",
   "mimetype": "text/x-python",
   "name": "python",
   "nbconvert_exporter": "python",
   "pygments_lexer": "ipython3",
   "version": "3.6.2"
  }
 },
 "nbformat": 4,
 "nbformat_minor": 2
}
