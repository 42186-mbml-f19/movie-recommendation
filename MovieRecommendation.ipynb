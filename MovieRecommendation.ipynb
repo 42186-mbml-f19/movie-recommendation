{
 "cells": [
  {
   "cell_type": "code",
   "execution_count": null,
   "metadata": {},
   "outputs": [],
   "source": [
    "import pandas as pd\n",
    "import pystan\n",
    "import numpy as np\n",
    "import matplotlib.pyplot as plt\n",
    "%matplotlib notebook"
   ]
  },
  {
   "cell_type": "code",
   "execution_count": null,
   "metadata": {},
   "outputs": [],
   "source": [
    "ratings = pd.read_csv('ml-latest-small/ratings.csv')\n",
    "ratings['like'] = (ratings.rating > 3.5 )+ 0"
   ]
  },
  {
   "cell_type": "code",
   "execution_count": null,
   "metadata": {},
   "outputs": [],
   "source": [
    "ratings.head()"
   ]
  },
  {
   "cell_type": "code",
   "execution_count": null,
   "metadata": {},
   "outputs": [],
   "source": [
    " = len(like)\n",
    "num_users = "
   ]
  },
  {
   "cell_type": "code",
   "execution_count": null,
   "metadata": {},
   "outputs": [],
   "source": [
    "user = ratings[ratings['userId'] == 1]\n",
    "user['like'] = user.rating > 3.5\n",
    "like = user['like'] + 0\n",
    "N = len(like)\n",
    "\n",
    "like.head()"
   ]
  },
  {
   "cell_type": "markdown",
   "metadata": {},
   "source": [
    "# One person classifier"
   ]
  },
  {
   "cell_type": "code",
   "execution_count": null,
   "metadata": {},
   "outputs": [],
   "source": [
    "# define Stan model\n",
    "model_definition = \"\"\"\n",
    "\n",
    "data {\n",
    "    int<lower=0> N;             // number of data items\n",
    "    int likes[N];\n",
    "    \n",
    "}\n",
    "parameters {\n",
    "    vector[N] trait;\n",
    "    real preference;\n",
    "} \n",
    "model {\n",
    "    vector[N] affinity;\n",
    "    vector[N] noisy_affinity;\n",
    "    \n",
    "    preference ~ normal(0,10);\n",
    "    for (n in 1:N){\n",
    "        trait[n] ~ normal(0,10);\n",
    "        affinity[n] = trait[n]*preference;\n",
    "        likes[n] ~ bernoulli_logit(affinity[n]);\n",
    "    }\n",
    "\n",
    "}\n",
    "\"\"\""
   ]
  },
  {
   "cell_type": "code",
   "execution_count": null,
   "metadata": {},
   "outputs": [],
   "source": [
    "data = {'N': N, 'likes': like}"
   ]
  },
  {
   "cell_type": "code",
   "execution_count": null,
   "metadata": {},
   "outputs": [],
   "source": [
    "%%time\n",
    "# create Stan model object\n",
    "sm = pystan.StanModel(model_code=model_definition)\n",
    "fit = sm.sampling(data=data, iter=10000, algorithm=\"NUTS\", chains=1, seed=42, verbose=True)"
   ]
  },
  {
   "cell_type": "code",
   "execution_count": null,
   "metadata": {},
   "outputs": [],
   "source": [
    "print(fit)"
   ]
  },
  {
   "cell_type": "code",
   "execution_count": null,
   "metadata": {
    "scrolled": false
   },
   "outputs": [],
   "source": [
    "fit.traceplot()"
   ]
  },
  {
   "cell_type": "markdown",
   "metadata": {},
   "source": [
    "# Multiple traits"
   ]
  },
  {
   "cell_type": "code",
   "execution_count": null,
   "metadata": {},
   "outputs": [],
   "source": [
    "# define Stan model\n",
    "model_definition = \"\"\"\n",
    "\n",
    "data {\n",
    "    int<lower=0> N;             // number of data items\n",
    "    int likes[N];\n",
    "    int num_traits;\n",
    "    \n",
    "}\n",
    "parameters {\n",
    "    matrix[N,num_traits] trait;\n",
    "    vector[num_traits] preference;\n",
    "} \n",
    "model {\n",
    "    //matrix[N, num_traits] trait_affinity ;\n",
    "    vector[N] affinity ;\n",
    "    \n",
    "    preference ~ normal(0,10);\n",
    "    for (n in 1:N){\n",
    "        real tmp = 0;\n",
    "        for (t in 1:num_traits){\n",
    "            trait[n,t] ~ normal(0,10);\n",
    "            tmp += trait[n,t]*preference[t];\n",
    "        \n",
    "        }\n",
    "        affinity[n] = tmp;\n",
    "        likes[n] ~ bernoulli_logit(affinity[n]);\n",
    "        \n",
    "    }\n",
    "}\n",
    "\"\"\""
   ]
  },
  {
   "cell_type": "code",
   "execution_count": null,
   "metadata": {},
   "outputs": [],
   "source": [
    "data = {'N': N, 'likes': like, 'num_traits':2}"
   ]
  },
  {
   "cell_type": "code",
   "execution_count": null,
   "metadata": {},
   "outputs": [],
   "source": [
    "%%time\n",
    "# create Stan model object\n",
    "sm = pystan.StanModel(model_code=model_definition)\n",
    "fit = sm.sampling(data=data, iter=10000, algorithm=\"NUTS\", chains=1, seed=42, verbose=True)"
   ]
  },
  {
   "cell_type": "code",
   "execution_count": null,
   "metadata": {},
   "outputs": [],
   "source": [
    "print(fit)"
   ]
  },
  {
   "cell_type": "code",
   "execution_count": null,
   "metadata": {
    "scrolled": true
   },
   "outputs": [],
   "source": [
    "trait_mean =np.mean(fit['trait'],0)\n",
    "np.subtract(trait_mean[:,0],trait_mean[:,1])"
   ]
  },
  {
   "cell_type": "markdown",
   "metadata": {},
   "source": [
    "# Multiple people"
   ]
  },
  {
   "cell_type": "code",
   "execution_count": null,
   "metadata": {},
   "outputs": [],
   "source": [
    "num_movies = len(ratings.movieId.unique())\n",
    "num_users = len(ratings.userId.unique())\n",
    "missing_values = []\n",
    "#Find missing values\n",
    "all_users = ratings.userId\n",
    "for movie_id in ratings.movieId.unique():\n",
    "    missing_users = set(all_users).difference(set(ratings[ratings['movieId']==movie_id].userId))\n",
    "    for i in missing_users:\n",
    "        missing_values.append((movie_id, i))"
   ]
  },
  {
   "cell_type": "code",
   "execution_count": null,
   "metadata": {},
   "outputs": [],
   "source": [
    "# define Stan model\n",
    "model_definition = \"\"\"\n",
    "\n",
    "data {\n",
    "    int num_movies;             // number of data items\n",
    "    int num_traits;\n",
    "    int num_users;  \n",
    "    \n",
    "    int num_likes;\n",
    "    int num_missing;\n",
    "    \n",
    "    int likes_obs[num_likes];\n",
    "    int idx_obs [num_likes,2];\n",
    "    \n",
    "    int idx_missing [num_missing, 2];\n",
    "    \n",
    "    \n",
    "}\n",
    "parameters {\n",
    "    matrix[num_movies,num_traits] trait;\n",
    "    matrix[num_traits, num_users] preference;\n",
    "    \n",
    "    vector[num_missing] likes_missing;\n",
    "} \n",
    "\n",
    "transformed parameters {\n",
    "    real likes[num_movies, num_users];\n",
    "\n",
    "    for(i in 1:num_likes){\n",
    "        likes[idx_obs[i,1],idx_obs[i,2]] = likes_obs[i];\n",
    "    }\n",
    "    for(i in 1:num_missing){\n",
    "        likes[idx_missing[i,1],idx_missing[i,2]] = likes_missing[i];\n",
    "    }\n",
    "    \n",
    "}\n",
    "model {\n",
    "    real tmp;\n",
    "    matrix[num_movies, num_users] affinity ;\n",
    "\n",
    "    \n",
    "    for (p in 1:num_users){\n",
    "        for (t in 1:num_traits){\n",
    "            preference[t,p] ~ normal(0,10);\n",
    "        }\n",
    "    }\n",
    "    \n",
    "\n",
    "    for (n in 1:num_movies){\n",
    "        for (t in 1:num_traits){\n",
    "            trait[n,t] ~ normal(0,10);\n",
    "        }\n",
    "    \n",
    "        for(p in 1:num_users){\n",
    "        \n",
    "            tmp = 0;\n",
    "            \n",
    "            for(t in 1:num_traits){\n",
    "                tmp += trait[n,t]*preference[t,p];\n",
    "            }\n",
    "            affinity[n,p] = tmp;\n",
    "            likes[n,p] ~ bernoulli_logit(affinity[n,p]);\n",
    "        }\n",
    "\n",
    "    }\n",
    "}\n",
    "\"\"\""
   ]
  },
  {
   "cell_type": "code",
   "execution_count": null,
   "metadata": {},
   "outputs": [],
   "source": [
    "data = {'num_movies': num_movies,\n",
    "        'likes_obs': ratings['like'], \n",
    "        'num_traits':2, \n",
    "        'num_users':num_users, \n",
    "        'num_likes':len(like), \n",
    "        'num_missing': len(missing_values),\n",
    "        'idx_obs': ratings[['userId','movieId']],\n",
    "        'idx_missing':missing_values\n",
    "       }"
   ]
  },
  {
   "cell_type": "code",
   "execution_count": null,
   "metadata": {
    "scrolled": false
   },
   "outputs": [],
   "source": [
    "%%time\n",
    "# create Stan model object\n",
    "sm = pystan.StanModel(model_code=model_definition)\n",
    "fit = sm.sampling(data=data, iter=10000, algorithm=\"NUTS\", chains=1, seed=42, verbose=True)"
   ]
  }
 ],
 "metadata": {
  "kernelspec": {
   "display_name": "Python 3",
   "language": "python",
   "name": "python3"
  },
  "language_info": {
   "codemirror_mode": {
    "name": "ipython",
    "version": 3
   },
   "file_extension": ".py",
   "mimetype": "text/x-python",
   "name": "python",
   "nbconvert_exporter": "python",
   "pygments_lexer": "ipython3",
   "version": "3.6.2"
  }
 },
 "nbformat": 4,
 "nbformat_minor": 2
}
