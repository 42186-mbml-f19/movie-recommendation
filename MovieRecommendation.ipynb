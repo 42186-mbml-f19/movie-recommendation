{
 "cells": [
  {
   "cell_type": "code",
   "execution_count": null,
   "metadata": {},
   "outputs": [],
   "source": [
    "import pandas as pd\n",
    "import pystan\n",
    "import numpy as np\n",
    "import matplotlib.pyplot as plt\n",
    "import pystan_utils\n",
    "%matplotlib notebook"
   ]
  },
  {
   "cell_type": "code",
   "execution_count": null,
   "metadata": {},
   "outputs": [],
   "source": [
    "ratings = pd.read_csv('ml-latest-small/ratings.csv')\n",
    "#Create like column\n",
    "ratings['like'] = (ratings.rating > 3.5 )+ 0\n",
    "\n",
    "unique_movies = ratings['movieId'].unique()\n",
    "\n",
    "#movieId is not sequantial\n",
    "movie_dict = {movieId: i for i,movieId in enumerate(unique_movies)}\n",
    "ratings['movieId'] = ratings['movieId'].apply(lambda movieId: movie_dict[movieId])"
   ]
  },
  {
   "cell_type": "code",
   "execution_count": null,
   "metadata": {},
   "outputs": [],
   "source": [
    "ratings.head()"
   ]
  },
  {
   "cell_type": "code",
   "execution_count": null,
   "metadata": {},
   "outputs": [],
   "source": [
    "user = ratings[ratings['userId'] == 1]\n",
    "user['like'] = user.rating > 3.5\n",
    "like = user['like'] + 0\n",
    "N = len(like)\n",
    "\n",
    "like.head()"
   ]
  },
  {
   "cell_type": "markdown",
   "metadata": {},
   "source": [
    "# One person classifier"
   ]
  },
  {
   "cell_type": "code",
   "execution_count": null,
   "metadata": {},
   "outputs": [],
   "source": [
    "# define Stan model\n",
    "model_definition = \"\"\"\n",
    "\n",
    "data {\n",
    "    int<lower=0> N;             // number of data items\n",
    "    int likes[N];\n",
    "    \n",
    "}\n",
    "parameters {\n",
    "    vector[N] trait;\n",
    "    real preference;\n",
    "} \n",
    "model {\n",
    "    vector[N] affinity;\n",
    "    vector[N] noisy_affinity;\n",
    "    \n",
    "    preference ~ normal(0,10);\n",
    "    for (n in 1:N){\n",
    "        trait[n] ~ normal(0,10);\n",
    "        affinity[n] = trait[n]*preference;\n",
    "        likes[n] ~ bernoulli_logit(affinity[n]);\n",
    "    }\n",
    "\n",
    "}\n",
    "\"\"\""
   ]
  },
  {
   "cell_type": "code",
   "execution_count": null,
   "metadata": {},
   "outputs": [],
   "source": [
    "data = {'N': N, 'likes': like}"
   ]
  },
  {
   "cell_type": "code",
   "execution_count": null,
   "metadata": {},
   "outputs": [],
   "source": [
    "%%time\n",
    "# create Stan model object\n",
    "sm = pystan.StanModel(model_code=model_definition)\n",
    "fit = sm.sampling(data=data, iter=10000, algorithm=\"NUTS\", chains=1, seed=42, verbose=True)"
   ]
  },
  {
   "cell_type": "code",
   "execution_count": null,
   "metadata": {},
   "outputs": [],
   "source": [
    "print(fit)"
   ]
  },
  {
   "cell_type": "code",
   "execution_count": null,
   "metadata": {
    "scrolled": false
   },
   "outputs": [],
   "source": [
    "fit.traceplot()"
   ]
  },
  {
   "cell_type": "markdown",
   "metadata": {},
   "source": [
    "# Multiple traits"
   ]
  },
  {
   "cell_type": "code",
   "execution_count": null,
   "metadata": {},
   "outputs": [],
   "source": [
    "# define Stan model\n",
    "model_definition = \"\"\"\n",
    "\n",
    "data {\n",
    "    int<lower=0> N;             // number of data items\n",
    "    int likes[N];\n",
    "    int num_traits;\n",
    "    \n",
    "}\n",
    "parameters {\n",
    "    matrix[N,num_traits] trait;\n",
    "    vector[num_traits] preference;\n",
    "} \n",
    "model {\n",
    "    //matrix[N, num_traits] trait_affinity ;\n",
    "    vector[N] affinity ;\n",
    "    \n",
    "    preference ~ normal(0,10);\n",
    "    for (n in 1:N){\n",
    "        real tmp = 0;\n",
    "        for (t in 1:num_traits){\n",
    "            trait[n,t] ~ normal(0,10);\n",
    "            tmp += trait[n,t]*preference[t];\n",
    "        \n",
    "        }\n",
    "        affinity[n] = tmp;\n",
    "        likes[n] ~ bernoulli_logit(affinity[n]);\n",
    "        \n",
    "    }\n",
    "}\n",
    "\"\"\""
   ]
  },
  {
   "cell_type": "code",
   "execution_count": null,
   "metadata": {},
   "outputs": [],
   "source": [
    "data = {'N': N, 'likes': like, 'num_traits':2}"
   ]
  },
  {
   "cell_type": "code",
   "execution_count": null,
   "metadata": {},
   "outputs": [],
   "source": [
    "%%time\n",
    "# create Stan model object\n",
    "sm = pystan.StanModel(model_code=model_definition)\n",
    "fit = sm.sampling(data=data, iter=10000, algorithm=\"NUTS\", chains=1, seed=42, verbose=True)"
   ]
  },
  {
   "cell_type": "code",
   "execution_count": null,
   "metadata": {},
   "outputs": [],
   "source": [
    "print(fit)"
   ]
  },
  {
   "cell_type": "code",
   "execution_count": null,
   "metadata": {
    "scrolled": true
   },
   "outputs": [],
   "source": [
    "trait_mean =np.mean(fit['trait'],0)\n",
    "np.subtract(trait_mean[:,0],trait_mean[:,1])"
   ]
  },
  {
   "cell_type": "markdown",
   "metadata": {},
   "source": [
    "# Multiple people"
   ]
  },
  {
   "cell_type": "code",
   "execution_count": null,
   "metadata": {},
   "outputs": [],
   "source": [
    "num_movies = len(ratings.movieId.unique())\n",
    "num_users = len(ratings.userId.unique())\n",
    "missing_userId = []\n",
    "missing_movieId = []\n",
    "#Find missing values\n",
    "all_users = ratings.userId\n",
    "for movie_id in ratings.movieId.unique():\n",
    "    missing_users = set(all_users).difference(set(ratings[ratings['movieId']==movie_id].userId))\n",
    "    for i in missing_users:\n",
    "        missing_userId.append(i)\n",
    "        missing_movieId.append(movie_id)\n"
   ]
  },
  {
   "cell_type": "code",
   "execution_count": null,
   "metadata": {},
   "outputs": [],
   "source": [
    "# define Stan model\n",
    "model_definition = \"\"\"\n",
    "\n",
    "data {\n",
    "    int num_movies;             // number of data items\n",
    "    int num_traits;\n",
    "    int num_users;  \n",
    "    \n",
    "    int num_likes;\n",
    "\n",
    "    \n",
    "    int likes_obs[num_likes];\n",
    "    int userId_obs[num_likes];\n",
    "    int movieId_obs[num_likes];\n",
    "    \n",
    "    //int num_missing;\n",
    "    //int userId_missing [num_missing];\n",
    "    //int movieId_missing [num_missing];\n",
    "    \n",
    "}\n",
    "parameters {\n",
    "    matrix[num_movies,num_traits] trait;\n",
    "    matrix[num_users ,num_traits] preference;\n",
    "    \n",
    "} \n",
    "\n",
    "model {\n",
    "    real affinity;\n",
    "\n",
    "    for (n in 1:num_likes){\n",
    "        affinity = 0;\n",
    "        for (t in 1:num_traits){\n",
    "            preference[userId_obs[n], t] ~ normal(0,10);\n",
    "            trait[movieId_obs[n], t] ~ normal(0,10);\n",
    "            \n",
    "            affinity += trait[movieId_obs[n], t]*preference[userId_obs[n], t];\n",
    "            \n",
    "        }\n",
    "        \n",
    "        likes_obs[n] ~ bernoulli_logit(affinity);\n",
    "\n",
    "    }\n",
    "}\n",
    "\n",
    "// Sampling predictions takes too much RAM\n",
    "//generated quantities {\n",
    "//    int predictions[num_missing];\n",
    "    \n",
    "//    for(i in 1:num_missing){\n",
    "//        real affinity = 0;\n",
    "//        for (t in 1:num_traits){\n",
    "//            affinity += trait[movieId_missing[i], t] * preference[t, userId_missing[i]];\n",
    "//       }\n",
    "//        predictions[i] = bernoulli_logit_rng(affinity);\n",
    "//    }\n",
    "//}\n",
    "\n",
    "\"\"\""
   ]
  },
  {
   "cell_type": "code",
   "execution_count": null,
   "metadata": {},
   "outputs": [],
   "source": [
    "data = {'num_movies': num_movies,\n",
    "        'likes_obs': ratings['like'], \n",
    "        'num_traits':2, \n",
    "        'num_users':num_users, \n",
    "        'num_likes':len(ratings), \n",
    "        'userId_obs': ratings['userId'],\n",
    "        'movieId_obs':ratings['movieId']+1\n",
    "        #'num_missing': len(missing_userId),\n",
    "        #'userId_missing': missing_userId,\n",
    "        #'movieId_missing': missing_movieId\n",
    "       }"
   ]
  },
  {
   "cell_type": "code",
   "execution_count": null,
   "metadata": {},
   "outputs": [],
   "source": [
    "%%time\n",
    "# create Stan model object\n",
    "sm = pystan.StanModel(model_code=model_definition)"
   ]
  },
  {
   "cell_type": "code",
   "execution_count": null,
   "metadata": {},
   "outputs": [],
   "source": [
    "%%time\n",
    "#sampling takes forever here, but VB seems to work really well\n",
    "#fit = sm.sampling(data=data, iter=10, algorithm=\"NUTS\", chains=1, seed=42, verbose=True)\n",
    "fit2 = sm.vb(data=data)"
   ]
  },
  {
   "cell_type": "code",
   "execution_count": null,
   "metadata": {},
   "outputs": [],
   "source": [
    "preferences=pystan_utils.vb_extract_variable(fit2, 'preference', var_type='matrix', dims=[num_users,2])\n",
    "traits=pystan_utils.vb_extract_variable(fit2, 'trait', var_type='matrix', dims=[num_movies,2])"
   ]
  },
  {
   "cell_type": "code",
   "execution_count": null,
   "metadata": {},
   "outputs": [],
   "source": [
    "plt.scatter(preferences[:,0], preferences[:,1])"
   ]
  },
  {
   "cell_type": "code",
   "execution_count": null,
   "metadata": {},
   "outputs": [],
   "source": [
    "plt.scatter(traits[:,0], traits[:,1])"
   ]
  }
 ],
 "metadata": {
  "kernelspec": {
   "display_name": "Python 3",
   "language": "python",
   "name": "python3"
  },
  "language_info": {
   "codemirror_mode": {
    "name": "ipython",
    "version": 3
   },
   "file_extension": ".py",
   "mimetype": "text/x-python",
   "name": "python",
   "nbconvert_exporter": "python",
   "pygments_lexer": "ipython3",
   "version": "3.6.2"
  }
 },
 "nbformat": 4,
 "nbformat_minor": 2
}
